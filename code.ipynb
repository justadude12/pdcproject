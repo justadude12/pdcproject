{
 "cells": [
  {
   "cell_type": "code",
   "execution_count": 1,
   "metadata": {},
   "outputs": [],
   "source": [
    "import numpy as np\n",
    "import random"
   ]
  },
  {
   "cell_type": "code",
   "execution_count": 10,
   "metadata": {},
   "outputs": [
    {
     "name": "stdout",
     "output_type": "stream",
     "text": [
      "When A = 4, and k = 33, eps = 3300\n",
      "When A = 6, and k = 16, eps = 2400\n",
      "When A = 8, and k = 11, eps = 2200\n",
      "When A = 10, and k = 8, eps = 2000\n",
      "When A = 12, and k = 6, eps = 1800\n"
     ]
    }
   ],
   "source": [
    "A = [4, 6, 8, 10, 12]\n",
    "k = [33, 16, 11, 8, 6]\n",
    "sigs = 25\n",
    "for i in range(len(A)):\n",
    "    print(f\"When A = {A[i]}, and k = {k[i]}, eps = {A[i] * sigs * k[i]}\")"
   ]
  },
  {
   "cell_type": "code",
   "execution_count": 166,
   "metadata": {},
   "outputs": [],
   "source": [
    "# Define the alphabet\n",
    "alphabet = 'abcdefghijklmnopqrstuvwxyzABCDEFGHIJKLMNOPQRSTUVWXYZ0123456789 .'\n",
    "\n",
    "# Convert text to binary sequence\n",
    "def text_to_binary(text):\n",
    "    binary_seq = ''.join(format(alphabet.index(c), '06b') for c in text)\n",
    "    return np.array([int(b) for b in binary_seq])\n",
    "\n",
    "codewords = []\n",
    "for i in range(32):\n",
    "    p = np.zeros(32)\n",
    "    p[i] = 70\n",
    "    codewords.append(p)\n",
    "    q = np.zeros(32)\n",
    "    q[i] = -70\n",
    "    codewords.append(q)\n",
    "\n",
    "CODEBOOK = {}\n",
    "for i in range(64):\n",
    "    CODEBOOK[alphabet[i]] = codewords[i]\n",
    "\n",
    "# Convert binary sequence to codeword with n samples\n",
    "def binary_to_codeword(binary_seq, n):\n",
    "    codeword = np.zeros(len(binary_seq)*n)\n",
    "    for i in range(len(binary_seq)):\n",
    "        codeword[i*n:(i+1)*n] = (-1)**(int(binary_seq[i]))  # Map 0 to 1 and 1 to -1\n",
    "    return codeword"
   ]
  },
  {
   "cell_type": "code",
   "execution_count": 167,
   "metadata": {},
   "outputs": [
    {
     "name": "stdout",
     "output_type": "stream",
     "text": [
      "[70.  0.  0.  0.  0.  0.  0.  0.  0.  0.  0.  0.  0.  0.  0.  0.  0.  0.\n",
      "  0.  0.  0.  0.  0.  0.  0.  0.  0.  0.  0.  0.  0.  0.]\n",
      "[-70.   0.   0.   0.   0.   0.   0.   0.   0.   0.   0.   0.   0.   0.\n",
      "   0.   0.   0.   0.   0.   0.   0.   0.   0.   0.   0.   0.   0.   0.\n",
      "   0.   0.   0.   0.]\n",
      "[ 0. 70.  0.  0.  0.  0.  0.  0.  0.  0.  0.  0.  0.  0.  0.  0.  0.  0.\n",
      "  0.  0.  0.  0.  0.  0.  0.  0.  0.  0.  0.  0.  0.  0.]\n",
      "[  0. -70.   0.   0.   0.   0.   0.   0.   0.   0.   0.   0.   0.   0.\n",
      "   0.   0.   0.   0.   0.   0.   0.   0.   0.   0.   0.   0.   0.   0.\n",
      "   0.   0.   0.   0.]\n",
      "[ 0.  0. 70.  0.  0.  0.  0.  0.  0.  0.  0.  0.  0.  0.  0.  0.  0.  0.\n",
      "  0.  0.  0.  0.  0.  0.  0.  0.  0.  0.  0.  0.  0.  0.]\n",
      "[  0.   0. -70.   0.   0.   0.   0.   0.   0.   0.   0.   0.   0.   0.\n",
      "   0.   0.   0.   0.   0.   0.   0.   0.   0.   0.   0.   0.   0.   0.\n",
      "   0.   0.   0.   0.]\n",
      "[ 0.  0.  0. 70.  0.  0.  0.  0.  0.  0.  0.  0.  0.  0.  0.  0.  0.  0.\n",
      "  0.  0.  0.  0.  0.  0.  0.  0.  0.  0.  0.  0.  0.  0.]\n",
      "[  0.   0.   0. -70.   0.   0.   0.   0.   0.   0.   0.   0.   0.   0.\n",
      "   0.   0.   0.   0.   0.   0.   0.   0.   0.   0.   0.   0.   0.   0.\n",
      "   0.   0.   0.   0.]\n",
      "[ 0.  0.  0.  0. 70.  0.  0.  0.  0.  0.  0.  0.  0.  0.  0.  0.  0.  0.\n",
      "  0.  0.  0.  0.  0.  0.  0.  0.  0.  0.  0.  0.  0.  0.]\n",
      "[  0.   0.   0.   0. -70.   0.   0.   0.   0.   0.   0.   0.   0.   0.\n",
      "   0.   0.   0.   0.   0.   0.   0.   0.   0.   0.   0.   0.   0.   0.\n",
      "   0.   0.   0.   0.]\n",
      "[ 0.  0.  0.  0.  0. 70.  0.  0.  0.  0.  0.  0.  0.  0.  0.  0.  0.  0.\n",
      "  0.  0.  0.  0.  0.  0.  0.  0.  0.  0.  0.  0.  0.  0.]\n",
      "[  0.   0.   0.   0.   0. -70.   0.   0.   0.   0.   0.   0.   0.   0.\n",
      "   0.   0.   0.   0.   0.   0.   0.   0.   0.   0.   0.   0.   0.   0.\n",
      "   0.   0.   0.   0.]\n",
      "[ 0.  0.  0.  0.  0.  0. 70.  0.  0.  0.  0.  0.  0.  0.  0.  0.  0.  0.\n",
      "  0.  0.  0.  0.  0.  0.  0.  0.  0.  0.  0.  0.  0.  0.]\n",
      "[  0.   0.   0.   0.   0.   0. -70.   0.   0.   0.   0.   0.   0.   0.\n",
      "   0.   0.   0.   0.   0.   0.   0.   0.   0.   0.   0.   0.   0.   0.\n",
      "   0.   0.   0.   0.]\n",
      "[ 0.  0.  0.  0.  0.  0.  0. 70.  0.  0.  0.  0.  0.  0.  0.  0.  0.  0.\n",
      "  0.  0.  0.  0.  0.  0.  0.  0.  0.  0.  0.  0.  0.  0.]\n",
      "[  0.   0.   0.   0.   0.   0.   0. -70.   0.   0.   0.   0.   0.   0.\n",
      "   0.   0.   0.   0.   0.   0.   0.   0.   0.   0.   0.   0.   0.   0.\n",
      "   0.   0.   0.   0.]\n",
      "[ 0.  0.  0.  0.  0.  0.  0.  0. 70.  0.  0.  0.  0.  0.  0.  0.  0.  0.\n",
      "  0.  0.  0.  0.  0.  0.  0.  0.  0.  0.  0.  0.  0.  0.]\n",
      "[  0.   0.   0.   0.   0.   0.   0.   0. -70.   0.   0.   0.   0.   0.\n",
      "   0.   0.   0.   0.   0.   0.   0.   0.   0.   0.   0.   0.   0.   0.\n",
      "   0.   0.   0.   0.]\n",
      "[ 0.  0.  0.  0.  0.  0.  0.  0.  0. 70.  0.  0.  0.  0.  0.  0.  0.  0.\n",
      "  0.  0.  0.  0.  0.  0.  0.  0.  0.  0.  0.  0.  0.  0.]\n",
      "[  0.   0.   0.   0.   0.   0.   0.   0.   0. -70.   0.   0.   0.   0.\n",
      "   0.   0.   0.   0.   0.   0.   0.   0.   0.   0.   0.   0.   0.   0.\n",
      "   0.   0.   0.   0.]\n",
      "[ 0.  0.  0.  0.  0.  0.  0.  0.  0.  0. 70.  0.  0.  0.  0.  0.  0.  0.\n",
      "  0.  0.  0.  0.  0.  0.  0.  0.  0.  0.  0.  0.  0.  0.]\n",
      "[  0.   0.   0.   0.   0.   0.   0.   0.   0.   0. -70.   0.   0.   0.\n",
      "   0.   0.   0.   0.   0.   0.   0.   0.   0.   0.   0.   0.   0.   0.\n",
      "   0.   0.   0.   0.]\n",
      "[ 0.  0.  0.  0.  0.  0.  0.  0.  0.  0.  0. 70.  0.  0.  0.  0.  0.  0.\n",
      "  0.  0.  0.  0.  0.  0.  0.  0.  0.  0.  0.  0.  0.  0.]\n",
      "[  0.   0.   0.   0.   0.   0.   0.   0.   0.   0.   0. -70.   0.   0.\n",
      "   0.   0.   0.   0.   0.   0.   0.   0.   0.   0.   0.   0.   0.   0.\n",
      "   0.   0.   0.   0.]\n",
      "[ 0.  0.  0.  0.  0.  0.  0.  0.  0.  0.  0.  0. 70.  0.  0.  0.  0.  0.\n",
      "  0.  0.  0.  0.  0.  0.  0.  0.  0.  0.  0.  0.  0.  0.]\n",
      "[  0.   0.   0.   0.   0.   0.   0.   0.   0.   0.   0.   0. -70.   0.\n",
      "   0.   0.   0.   0.   0.   0.   0.   0.   0.   0.   0.   0.   0.   0.\n",
      "   0.   0.   0.   0.]\n",
      "[ 0.  0.  0.  0.  0.  0.  0.  0.  0.  0.  0.  0.  0. 70.  0.  0.  0.  0.\n",
      "  0.  0.  0.  0.  0.  0.  0.  0.  0.  0.  0.  0.  0.  0.]\n",
      "[  0.   0.   0.   0.   0.   0.   0.   0.   0.   0.   0.   0.   0. -70.\n",
      "   0.   0.   0.   0.   0.   0.   0.   0.   0.   0.   0.   0.   0.   0.\n",
      "   0.   0.   0.   0.]\n",
      "[ 0.  0.  0.  0.  0.  0.  0.  0.  0.  0.  0.  0.  0.  0. 70.  0.  0.  0.\n",
      "  0.  0.  0.  0.  0.  0.  0.  0.  0.  0.  0.  0.  0.  0.]\n",
      "[  0.   0.   0.   0.   0.   0.   0.   0.   0.   0.   0.   0.   0.   0.\n",
      " -70.   0.   0.   0.   0.   0.   0.   0.   0.   0.   0.   0.   0.   0.\n",
      "   0.   0.   0.   0.]\n",
      "[ 0.  0.  0.  0.  0.  0.  0.  0.  0.  0.  0.  0.  0.  0.  0. 70.  0.  0.\n",
      "  0.  0.  0.  0.  0.  0.  0.  0.  0.  0.  0.  0.  0.  0.]\n",
      "[  0.   0.   0.   0.   0.   0.   0.   0.   0.   0.   0.   0.   0.   0.\n",
      "   0. -70.   0.   0.   0.   0.   0.   0.   0.   0.   0.   0.   0.   0.\n",
      "   0.   0.   0.   0.]\n",
      "[ 0.  0.  0.  0.  0.  0.  0.  0.  0.  0.  0.  0.  0.  0.  0.  0. 70.  0.\n",
      "  0.  0.  0.  0.  0.  0.  0.  0.  0.  0.  0.  0.  0.  0.]\n",
      "[  0.   0.   0.   0.   0.   0.   0.   0.   0.   0.   0.   0.   0.   0.\n",
      "   0.   0. -70.   0.   0.   0.   0.   0.   0.   0.   0.   0.   0.   0.\n",
      "   0.   0.   0.   0.]\n",
      "[ 0.  0.  0.  0.  0.  0.  0.  0.  0.  0.  0.  0.  0.  0.  0.  0.  0. 70.\n",
      "  0.  0.  0.  0.  0.  0.  0.  0.  0.  0.  0.  0.  0.  0.]\n",
      "[  0.   0.   0.   0.   0.   0.   0.   0.   0.   0.   0.   0.   0.   0.\n",
      "   0.   0.   0. -70.   0.   0.   0.   0.   0.   0.   0.   0.   0.   0.\n",
      "   0.   0.   0.   0.]\n",
      "[ 0.  0.  0.  0.  0.  0.  0.  0.  0.  0.  0.  0.  0.  0.  0.  0.  0.  0.\n",
      " 70.  0.  0.  0.  0.  0.  0.  0.  0.  0.  0.  0.  0.  0.]\n",
      "[  0.   0.   0.   0.   0.   0.   0.   0.   0.   0.   0.   0.   0.   0.\n",
      "   0.   0.   0.   0. -70.   0.   0.   0.   0.   0.   0.   0.   0.   0.\n",
      "   0.   0.   0.   0.]\n",
      "[ 0.  0.  0.  0.  0.  0.  0.  0.  0.  0.  0.  0.  0.  0.  0.  0.  0.  0.\n",
      "  0. 70.  0.  0.  0.  0.  0.  0.  0.  0.  0.  0.  0.  0.]\n",
      "[  0.   0.   0.   0.   0.   0.   0.   0.   0.   0.   0.   0.   0.   0.\n",
      "   0.   0.   0.   0.   0. -70.   0.   0.   0.   0.   0.   0.   0.   0.\n",
      "   0.   0.   0.   0.]\n",
      "[ 0.  0.  0.  0.  0.  0.  0.  0.  0.  0.  0.  0.  0.  0.  0.  0.  0.  0.\n",
      "  0.  0. 70.  0.  0.  0.  0.  0.  0.  0.  0.  0.  0.  0.]\n",
      "[  0.   0.   0.   0.   0.   0.   0.   0.   0.   0.   0.   0.   0.   0.\n",
      "   0.   0.   0.   0.   0.   0. -70.   0.   0.   0.   0.   0.   0.   0.\n",
      "   0.   0.   0.   0.]\n",
      "[ 0.  0.  0.  0.  0.  0.  0.  0.  0.  0.  0.  0.  0.  0.  0.  0.  0.  0.\n",
      "  0.  0.  0. 70.  0.  0.  0.  0.  0.  0.  0.  0.  0.  0.]\n",
      "[  0.   0.   0.   0.   0.   0.   0.   0.   0.   0.   0.   0.   0.   0.\n",
      "   0.   0.   0.   0.   0.   0.   0. -70.   0.   0.   0.   0.   0.   0.\n",
      "   0.   0.   0.   0.]\n",
      "[ 0.  0.  0.  0.  0.  0.  0.  0.  0.  0.  0.  0.  0.  0.  0.  0.  0.  0.\n",
      "  0.  0.  0.  0. 70.  0.  0.  0.  0.  0.  0.  0.  0.  0.]\n",
      "[  0.   0.   0.   0.   0.   0.   0.   0.   0.   0.   0.   0.   0.   0.\n",
      "   0.   0.   0.   0.   0.   0.   0.   0. -70.   0.   0.   0.   0.   0.\n",
      "   0.   0.   0.   0.]\n",
      "[ 0.  0.  0.  0.  0.  0.  0.  0.  0.  0.  0.  0.  0.  0.  0.  0.  0.  0.\n",
      "  0.  0.  0.  0.  0. 70.  0.  0.  0.  0.  0.  0.  0.  0.]\n",
      "[  0.   0.   0.   0.   0.   0.   0.   0.   0.   0.   0.   0.   0.   0.\n",
      "   0.   0.   0.   0.   0.   0.   0.   0.   0. -70.   0.   0.   0.   0.\n",
      "   0.   0.   0.   0.]\n",
      "[ 0.  0.  0.  0.  0.  0.  0.  0.  0.  0.  0.  0.  0.  0.  0.  0.  0.  0.\n",
      "  0.  0.  0.  0.  0.  0. 70.  0.  0.  0.  0.  0.  0.  0.]\n",
      "[  0.   0.   0.   0.   0.   0.   0.   0.   0.   0.   0.   0.   0.   0.\n",
      "   0.   0.   0.   0.   0.   0.   0.   0.   0.   0. -70.   0.   0.   0.\n",
      "   0.   0.   0.   0.]\n",
      "[ 0.  0.  0.  0.  0.  0.  0.  0.  0.  0.  0.  0.  0.  0.  0.  0.  0.  0.\n",
      "  0.  0.  0.  0.  0.  0.  0. 70.  0.  0.  0.  0.  0.  0.]\n",
      "[  0.   0.   0.   0.   0.   0.   0.   0.   0.   0.   0.   0.   0.   0.\n",
      "   0.   0.   0.   0.   0.   0.   0.   0.   0.   0.   0. -70.   0.   0.\n",
      "   0.   0.   0.   0.]\n",
      "[ 0.  0.  0.  0.  0.  0.  0.  0.  0.  0.  0.  0.  0.  0.  0.  0.  0.  0.\n",
      "  0.  0.  0.  0.  0.  0.  0.  0. 70.  0.  0.  0.  0.  0.]\n",
      "[  0.   0.   0.   0.   0.   0.   0.   0.   0.   0.   0.   0.   0.   0.\n",
      "   0.   0.   0.   0.   0.   0.   0.   0.   0.   0.   0.   0. -70.   0.\n",
      "   0.   0.   0.   0.]\n",
      "[ 0.  0.  0.  0.  0.  0.  0.  0.  0.  0.  0.  0.  0.  0.  0.  0.  0.  0.\n",
      "  0.  0.  0.  0.  0.  0.  0.  0.  0. 70.  0.  0.  0.  0.]\n",
      "[  0.   0.   0.   0.   0.   0.   0.   0.   0.   0.   0.   0.   0.   0.\n",
      "   0.   0.   0.   0.   0.   0.   0.   0.   0.   0.   0.   0.   0. -70.\n",
      "   0.   0.   0.   0.]\n",
      "[ 0.  0.  0.  0.  0.  0.  0.  0.  0.  0.  0.  0.  0.  0.  0.  0.  0.  0.\n",
      "  0.  0.  0.  0.  0.  0.  0.  0.  0.  0. 70.  0.  0.  0.]\n",
      "[  0.   0.   0.   0.   0.   0.   0.   0.   0.   0.   0.   0.   0.   0.\n",
      "   0.   0.   0.   0.   0.   0.   0.   0.   0.   0.   0.   0.   0.   0.\n",
      " -70.   0.   0.   0.]\n",
      "[ 0.  0.  0.  0.  0.  0.  0.  0.  0.  0.  0.  0.  0.  0.  0.  0.  0.  0.\n",
      "  0.  0.  0.  0.  0.  0.  0.  0.  0.  0.  0. 70.  0.  0.]\n",
      "[  0.   0.   0.   0.   0.   0.   0.   0.   0.   0.   0.   0.   0.   0.\n",
      "   0.   0.   0.   0.   0.   0.   0.   0.   0.   0.   0.   0.   0.   0.\n",
      "   0. -70.   0.   0.]\n",
      "[ 0.  0.  0.  0.  0.  0.  0.  0.  0.  0.  0.  0.  0.  0.  0.  0.  0.  0.\n",
      "  0.  0.  0.  0.  0.  0.  0.  0.  0.  0.  0.  0. 70.  0.]\n",
      "[  0.   0.   0.   0.   0.   0.   0.   0.   0.   0.   0.   0.   0.   0.\n",
      "   0.   0.   0.   0.   0.   0.   0.   0.   0.   0.   0.   0.   0.   0.\n",
      "   0.   0. -70.   0.]\n",
      "[ 0.  0.  0.  0.  0.  0.  0.  0.  0.  0.  0.  0.  0.  0.  0.  0.  0.  0.\n",
      "  0.  0.  0.  0.  0.  0.  0.  0.  0.  0.  0.  0.  0. 70.]\n",
      "[  0.   0.   0.   0.   0.   0.   0.   0.   0.   0.   0.   0.   0.   0.\n",
      "   0.   0.   0.   0.   0.   0.   0.   0.   0.   0.   0.   0.   0.   0.\n",
      "   0.   0.   0. -70.]\n"
     ]
    }
   ],
   "source": [
    "for i in CODEBOOK.values():\n",
    "    print(i)"
   ]
  },
  {
   "cell_type": "code",
   "execution_count": 168,
   "metadata": {},
   "outputs": [
    {
     "name": "stdout",
     "output_type": "stream",
     "text": [
      "[0 0 0 0 0 1]\n",
      "192\n"
     ]
    }
   ],
   "source": [
    "print(text_to_binary('b'))\n",
    "print(len(binary_to_codeword(text_to_binary('H'), 32)))"
   ]
  },
  {
   "cell_type": "code",
   "execution_count": 169,
   "metadata": {},
   "outputs": [
    {
     "name": "stdout",
     "output_type": "stream",
     "text": [
      "[1. 1. 1. 1. 1. 1. 1. 1. 1. 1. 1. 1. 1. 1. 1. 1. 1. 1. 1. 1. 1. 1. 1. 1.\n",
      " 1. 1. 1. 1. 1. 1. 1. 1. 1. 1. 1. 1. 1. 1. 1. 1. 1. 1. 1. 1. 1. 1. 1. 1.\n",
      " 1. 1. 1. 1. 1. 1. 1. 1. 1. 1. 1. 1. 1. 1. 1. 1. 1. 1. 1. 1. 1. 1. 1. 1.\n",
      " 1. 1. 1. 1. 1. 1. 1. 1. 1. 1. 1. 1. 1. 1. 1. 1. 1. 1. 1. 1. 1. 1. 1. 1.\n",
      " 1. 1. 1. 1. 1. 1. 1. 1. 1. 1. 1. 1. 1. 1. 1. 1. 1. 1. 1. 1. 1. 1. 1. 1.\n",
      " 1. 1. 1. 1. 1. 1. 1. 1. 1. 1. 1. 1. 1. 1. 1. 1. 1. 1. 1. 1. 1. 1. 1. 1.\n",
      " 1. 1. 1. 1. 1. 1. 1. 1. 1. 1. 1. 1. 1. 1. 1. 1. 1. 1. 1. 1. 1. 1. 1. 1.\n",
      " 1. 1. 1. 1. 1. 1. 1. 1. 1. 1. 1. 1. 1. 1. 1. 1. 1. 1. 1. 1. 1. 1. 1. 1.]\n"
     ]
    }
   ],
   "source": [
    "print(binary_to_codeword('000000', 32))"
   ]
  },
  {
   "cell_type": "code",
   "execution_count": 172,
   "metadata": {},
   "outputs": [
    {
     "name": "stdout",
     "output_type": "stream",
     "text": [
      "Original Message: bbaaaaaaaaaaaaa.aaaa123aaaaaaaaaaaaaaaba\n",
      "Received Signal: [-75.7113657   -1.97266155  -4.30032657 ...   3.57296985   2.32475361\n",
      "  -4.67113677]\n"
     ]
    }
   ],
   "source": [
    "# Convert binary sequence back to text\n",
    "def binary_to_text(binary_seq):\n",
    "    binary_str = ''.join(map(str, binary_seq))\n",
    "    text = ''.join(alphabet[int(binary_str[i:i+6], 2)] for i in range(0, len(binary_str), 6))\n",
    "    return text\n",
    "\n",
    "# Simulate the channel\n",
    "def channel(x):\n",
    "    n = x.size\n",
    "    B = random.choice([0, 1])\n",
    "    sigma_sq = 25\n",
    "    Z = np.random.normal(0, np.sqrt(sigma_sq), 2 * n)\n",
    "    X = np.zeros(2 * n)\n",
    "    if B == 1:\n",
    "        X[:n] = x\n",
    "    else:\n",
    "        X[n:] = x\n",
    "    Y = X + Z\n",
    "    Y = np.reshape(Y, (-1))\n",
    "    return Y\n",
    "\n",
    "# Save codebook to a file\n",
    "def save_codebook_to_file(codebook, file_path):\n",
    "    np.save(file_path, codebook)\n",
    "\n",
    "# Load codebook from a file\n",
    "def load_codebook_from_file(file_path):\n",
    "    return np.load(file_path)\n",
    "\n",
    "\n",
    "\n",
    "# Transmitter\n",
    "message = \"bbaaaaaaaaaaaaa.aaaa123aaaaaaaaaaaaaaaba\"\n",
    "print(\"Original Message:\", message)\n",
    "\n",
    "#print(\"Codeword:\", binary_seq)\n",
    "    #np.savetxt('input_signal.txt', codeword)\n",
    "\n",
    "    # Channel\n",
    "    #transmitted_signal = np.loadtxt('input_signal.txt')\n",
    "transmitted_signal = np.zeros(40*32)\n",
    "for i in range(40):\n",
    "    transmitted_signal[i*32:(i+1)*32] = CODEBOOK[message[i]]\n",
    "\n",
    "received_signal = channel(transmitted_signal)\n",
    "    #np.savetxt('received_signal.txt', received_signal)\n",
    "print(\"Received Signal:\", received_signal)\n",
    "\n",
    "    \n"
   ]
  },
  {
   "cell_type": "code",
   "execution_count": 173,
   "metadata": {},
   "outputs": [
    {
     "name": "stdout",
     "output_type": "stream",
     "text": [
      "bbaaaaaaaaaaaaa.aaaa123aaaaaaaaaaaaaaaba\n"
     ]
    }
   ],
   "source": [
    "# Receiver\n",
    "    #received_signal = np.loadtxt('received_signal.txt')\n",
    "message_code1 = []\n",
    "message_code2 = []\n",
    "for i in range(40):\n",
    "    message_code1.append(received_signal[i*32:(i+1)*32])\n",
    "    message_code2.append(received_signal[len(received_signal)//2+i*32:len(received_signal)//2+(i+1)*32])\n",
    "message_bin = []\n",
    "for i in range(40):\n",
    "    char_bin = ''\n",
    "    y1 = message_code1[i]\n",
    "    y2 = message_code2[i]\n",
    "    i1 = np.argmin([np.linalg.norm(y1 - c) for c in CODEBOOK.values()])\n",
    "    char1 = alphabet[i1]\n",
    "    i2 = np.argmin([np.linalg.norm(y2 - c) for c in CODEBOOK.values()])\n",
    "    char2 = alphabet[i2]\n",
    "    d1 = i1 ** 2 / 25 + np.linalg.norm(y2) ** 2 / 25\n",
    "    d2 = i2 ** 2 / 25 + np.linalg.norm(y1) ** 2 / 25\n",
    "    if d1 < d2:\n",
    "        char_bin = char1\n",
    "    else:\n",
    "        char_bin = char2  \n",
    "    message_bin.append(char_bin)\n",
    "\n",
    "msg = ''\n",
    "for i in range(40):\n",
    "    msg += (message_bin[i])\n",
    "\n",
    "print(msg)\n"
   ]
  },
  {
   "cell_type": "code",
   "execution_count": 174,
   "metadata": {},
   "outputs": [
    {
     "name": "stdout",
     "output_type": "stream",
     "text": [
      "[ 0.  0.  0.  0.  0.  0.  0.  0.  0.  0.  0.  0.  0.  0.  0.  0.  0.  0.\n",
      "  0.  0.  0.  0.  0.  0.  0.  0. 70.  0.  0.  0.  0.  0.]\n"
     ]
    }
   ],
   "source": [
    "print(CODEBOOK['0'])"
   ]
  },
  {
   "cell_type": "code",
   "execution_count": null,
   "metadata": {},
   "outputs": [],
   "source": []
  }
 ],
 "metadata": {
  "kernelspec": {
   "display_name": "Python 3",
   "language": "python",
   "name": "python3"
  },
  "language_info": {
   "codemirror_mode": {
    "name": "ipython",
    "version": 3
   },
   "file_extension": ".py",
   "mimetype": "text/x-python",
   "name": "python",
   "nbconvert_exporter": "python",
   "pygments_lexer": "ipython3",
   "version": "3.10.7"
  }
 },
 "nbformat": 4,
 "nbformat_minor": 2
}

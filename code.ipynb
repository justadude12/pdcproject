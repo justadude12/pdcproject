{
 "cells": [
  {
   "cell_type": "code",
   "execution_count": 1,
   "metadata": {},
   "outputs": [],
   "source": [
    "import numpy as np\n",
    "import random"
   ]
  },
  {
   "cell_type": "code",
   "execution_count": 22,
   "metadata": {},
   "outputs": [],
   "source": [
    "# Define the alphabet\n",
    "alphabet = 'abcdefghijklmnopqrstuvwxyzABCDEFGHIJKLMNOPQRSTUVWXYZ0123456789 .'\n",
    "\n",
    "# Convert text to binary sequence\n",
    "def text_to_binary(text):\n",
    "    binary_seq = ''.join(format(alphabet.index(c), '06b') for c in text)\n",
    "    return np.array([int(b) for b in binary_seq])\n",
    "\n",
    "# Convert binary sequence to codeword with n samples\n",
    "def binary_to_codeword(binary_seq, n):\n",
    "    codeword = np.zeros(len(binary_seq)*n)\n",
    "    for i in range(len(binary_seq)):\n",
    "        codeword[i*n:(i+1)*n] = (-1)**(int(binary_seq[i]))  # Map 0 to 1 and 1 to -1\n",
    "    return codeword"
   ]
  },
  {
   "cell_type": "code",
   "execution_count": 57,
   "metadata": {},
   "outputs": [
    {
     "name": "stdout",
     "output_type": "stream",
     "text": [
      "[1 0 0 0 0 1]\n",
      "192\n"
     ]
    }
   ],
   "source": [
    "print(text_to_binary('H'))\n",
    "print(len(binary_to_codeword(text_to_binary('H'), 32)))"
   ]
  },
  {
   "cell_type": "code",
   "execution_count": 24,
   "metadata": {},
   "outputs": [
    {
     "name": "stdout",
     "output_type": "stream",
     "text": [
      "[1. 1. 1. 1. 1. 1. 1. 1. 1. 1. 1. 1. 1. 1. 1. 1. 1. 1. 1. 1. 1. 1. 1. 1.\n",
      " 1. 1. 1. 1. 1. 1. 1. 1. 1. 1. 1. 1. 1. 1. 1. 1. 1. 1. 1. 1. 1. 1. 1. 1.\n",
      " 1. 1. 1. 1. 1. 1. 1. 1. 1. 1. 1. 1. 1. 1. 1. 1. 1. 1. 1. 1. 1. 1. 1. 1.\n",
      " 1. 1. 1. 1. 1. 1. 1. 1. 1. 1. 1. 1. 1. 1. 1. 1. 1. 1. 1. 1. 1. 1. 1. 1.\n",
      " 1. 1. 1. 1. 1. 1. 1. 1. 1. 1. 1. 1. 1. 1. 1. 1. 1. 1. 1. 1. 1. 1. 1. 1.\n",
      " 1. 1. 1. 1. 1. 1. 1. 1. 1. 1. 1. 1. 1. 1. 1. 1. 1. 1. 1. 1. 1. 1. 1. 1.\n",
      " 1. 1. 1. 1. 1. 1. 1. 1. 1. 1. 1. 1. 1. 1. 1. 1. 1. 1. 1. 1. 1. 1. 1. 1.\n",
      " 1. 1. 1. 1. 1. 1. 1. 1. 1. 1. 1. 1. 1. 1. 1. 1. 1. 1. 1. 1. 1. 1. 1. 1.]\n"
     ]
    }
   ],
   "source": [
    "print(binary_to_codeword('000000', 32))"
   ]
  },
  {
   "cell_type": "code",
   "execution_count": 105,
   "metadata": {},
   "outputs": [
    {
     "name": "stdout",
     "output_type": "stream",
     "text": [
      "Original Message: Hello World Hello World Hillo World 1.1.\n"
     ]
    }
   ],
   "source": [
    "# Convert binary sequence back to text\n",
    "def binary_to_text(binary_seq):\n",
    "    binary_str = ''.join(map(str, binary_seq))\n",
    "    text = ''.join(alphabet[int(binary_str[i:i+6], 2)] for i in range(0, len(binary_str), 6))\n",
    "    return text\n",
    "\n",
    "# Simulate the channel\n",
    "def channel(x):\n",
    "    n = x.size\n",
    "    B = random.choice([0, 1])\n",
    "    sigma_sq = 25\n",
    "    Z = np.random.normal(0, np.sqrt(sigma_sq), 2 * n)\n",
    "    X = np.zeros(2 * n)\n",
    "    if B == 1:\n",
    "        X[:n] = x\n",
    "    else:\n",
    "        X[n:2*n] = x\n",
    "    Y = X + Z\n",
    "    Y = np.reshape(Y, (-1))\n",
    "    return Y\n",
    "\n",
    "CODEBOOK = {'0': 5*np.ones(32), '1': (-5)*np.ones(32)}\n",
    "\n",
    "# Save codebook to a file\n",
    "def save_codebook_to_file(codebook, file_path):\n",
    "    np.save(file_path, codebook)\n",
    "\n",
    "# Load codebook from a file\n",
    "def load_codebook_from_file(file_path):\n",
    "    return np.load(file_path)\n",
    "\n",
    "\n",
    "\n",
    "# Transmitter\n",
    "message = \"Hello World Hello World Hillo World 1.1.\"\n",
    "print(\"Original Message:\", message)\n",
    "binary_seq = text_to_binary(message)\n",
    "codeword = binary_to_codeword(binary_seq, 32)\n",
    "    #np.savetxt('input_signal.txt', codeword)\n",
    "\n",
    "    # Channel\n",
    "    #transmitted_signal = np.loadtxt('input_signal.txt')\n",
    "transmitted_signal = codeword\n",
    "\n",
    "received_signal = channel(transmitted_signal)\n",
    "    #np.savetxt('received_signal.txt', received_signal)\n",
    "\n",
    "    \n"
   ]
  },
  {
   "cell_type": "code",
   "execution_count": 106,
   "metadata": {},
   "outputs": [
    {
     "name": "stdout",
     "output_type": "stream",
     "text": [
      "IzDRBpIlxJRNklwJlo NiOnLCg6NPmmvdk7X1wJS"
     ]
    }
   ],
   "source": [
    "# Receiver\n",
    "    #received_signal = np.loadtxt('received_signal.txt')\n",
    "message_code = []\n",
    "for i in range(40):\n",
    "    message_code.append(received_signal[i*64*6:(i+1)*64*6])\n",
    "message_bin = []\n",
    "for i in range(40):\n",
    "    char_bin = ''\n",
    "    for j in range(6):\n",
    "        y1 = message_code[i][j*64:j*64+32]\n",
    "        y2 = message_code[i][j*64+32:(j+1)*64]\n",
    "        i1 = np.argmin([np.linalg.norm(y1 - c) for c in CODEBOOK.values()])\n",
    "        i2 = np.argmin([np.linalg.norm(y2 - c) for c in CODEBOOK.values()])\n",
    "        d1 = np.linalg.norm(y1 - CODEBOOK['0']) ** 2 / 25 + np.linalg.norm(y2) ** 2 / 25\n",
    "        d2 = np.linalg.norm(y2 - CODEBOOK['1']) ** 2 / 25 + np.linalg.norm(y1) ** 2 / 25\n",
    "        if d1 < d2:\n",
    "            char_bin += str(i1)\n",
    "        else:\n",
    "            char_bin += str(i2)\n",
    "        \n",
    "    message_bin.append(char_bin)\n",
    "\n",
    "\n",
    "for i in range(40):\n",
    "    print(binary_to_text(message_bin[i]), end='')\n"
   ]
  },
  {
   "cell_type": "code",
   "execution_count": 97,
   "metadata": {},
   "outputs": [
    {
     "name": "stdout",
     "output_type": "stream",
     "text": [
      "[5. 5. 5. 5. 5. 5. 5. 5. 5. 5. 5. 5. 5. 5. 5. 5. 5. 5. 5. 5. 5. 5. 5. 5.\n",
      " 5. 5. 5. 5. 5. 5. 5. 5.]\n"
     ]
    }
   ],
   "source": [
    "print(CODEBOOK['0'])"
   ]
  },
  {
   "cell_type": "code",
   "execution_count": null,
   "metadata": {},
   "outputs": [],
   "source": [
    "if __name__ == '__main__':\n",
    "    main()"
   ]
  }
 ],
 "metadata": {
  "kernelspec": {
   "display_name": "Python 3",
   "language": "python",
   "name": "python3"
  },
  "language_info": {
   "codemirror_mode": {
    "name": "ipython",
    "version": 3
   },
   "file_extension": ".py",
   "mimetype": "text/x-python",
   "name": "python",
   "nbconvert_exporter": "python",
   "pygments_lexer": "ipython3",
   "version": "3.10.7"
  }
 },
 "nbformat": 4,
 "nbformat_minor": 2
}

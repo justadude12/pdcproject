{
 "cells": [
  {
   "cell_type": "code",
   "execution_count": null,
   "metadata": {},
   "outputs": [],
   "source": [
    "import numpy as np\n",
    "import random"
   ]
  },
  {
   "cell_type": "code",
   "execution_count": null,
   "metadata": {},
   "outputs": [],
   "source": [
    "# Define the alphabet\n",
    "alphabet = 'abcdefghijklmnopqrstuvwxyzABCDEFGHIJKLMNOPQRSTUVWXYZ0123456789 .'\n",
    "\n",
    "codewords = []\n",
    "for i in range(32):\n",
    "    p = np.zeros(64)\n",
    "    p[2*i] = 32\n",
    "    codewords.append(p)\n",
    "    q = np.zeros(64)\n",
    "    q[2*i] = -32\n",
    "    codewords.append(q)\n",
    "\n",
    "CODEBOOK = {}\n",
    "for i in range(64):\n",
    "    CODEBOOK[alphabet[i]] = codewords[i]\n",
    "for i in range(32):\n",
    "    p = np.zeros(64)\n",
    "    p[2*i+1] = 200\n",
    "    CODEBOOK['xp'+str(i)] = p\n",
    "    q = np.zeros(64)\n",
    "    q[2*i+1] = -200\n",
    "    CODEBOOK['xq'+str(i)] = q\n"
   ]
  },
  {
   "cell_type": "code",
   "execution_count": null,
   "metadata": {},
   "outputs": [],
   "source": [
    "# Simulate the channel\n",
    "def channel(x):\n",
    "    n = x.size\n",
    "    B = random.choice([0, 1])\n",
    "    sigma_sq = 25\n",
    "    Z = np.random.normal(0, np.sqrt(sigma_sq), 2 * n)\n",
    "    X = np.zeros(2 * n)\n",
    "    if B == 1:\n",
    "        X[:n] = x\n",
    "    else:\n",
    "        X[n:] = x\n",
    "    Y = X + Z\n",
    "    Y = np.reshape(Y, (-1))\n",
    "    return Y\n",
    "\n",
    "# Transmitter\n",
    "message = \"111aaaaaaaaaaaa.aaaa123aaaaaaaaaaaaaaaba\"\n",
    "#message = alphabet[-40:]\n",
    "print(\"Original Message:\", message)\n",
    "\n",
    "transmitted_signal = np.zeros(40*64)\n",
    "for i in range(40):\n",
    "    transmitted_signal[i*64:(i+1)*64] = CODEBOOK[message[i]]\n",
    "\n",
    "np.savetxt('input_signal.txt', transmitted_signal)\n",
    "\n",
    "#received_signal = channel(transmitted_signal)\n",
    "    #np.savetxt('received_signal.txt', received_signal)\n",
    "#print(\"Received Signal:\", received_signal)"
   ]
  },
  {
   "cell_type": "code",
   "execution_count": null,
   "metadata": {},
   "outputs": [],
   "source": [
    "# Receiver\n",
    "    #received_signal = np.loadtxt('received_signal.txt')\n",
    "received_signal = []\n",
    "with open('output.txt') as f:\n",
    "    for line in f:\n",
    "        received_signal.append(float(line))\n",
    "message_code1 = []\n",
    "message_code2 = []\n",
    "for i in range(40):\n",
    "    message_code1.append(received_signal[i*64:(i+1)*64])\n",
    "    message_code2.append(received_signal[len(received_signal)//2+i*64:len(received_signal)//2+(i+1)*64])\n",
    "message_bin = []\n",
    "for i in range(40):\n",
    "    char_bin = ''\n",
    "    y1 = message_code1[i]\n",
    "    y2 = message_code2[i]\n",
    "    i1 = np.argmin([np.linalg.norm(y1 - c) for c in CODEBOOK.values()])\n",
    "    char1 = alphabet[i1]\n",
    "    i2 = np.argmin([np.linalg.norm(y2 - c) for c in CODEBOOK.values()])\n",
    "    char2 = alphabet[i2]\n",
    "    d1 = np.linalg.norm(y1 - CODEBOOK[char1]) ** 2 / 25 + np.linalg.norm(y2) ** 2 / 25\n",
    "    d2 = np.linalg.norm(y2 - CODEBOOK[char2]) ** 2 / 25 + np.linalg.norm(y1) ** 2 / 25\n",
    "    if d1 < d2:\n",
    "        char_bin = char1\n",
    "    else:\n",
    "        char_bin = char2  \n",
    "    message_bin.append(char_bin)\n",
    "\n",
    "msg = ''\n",
    "for i in range(40):\n",
    "    msg += (message_bin[i])\n",
    "\n",
    "print(msg)\n"
   ]
  },
  {
   "cell_type": "code",
   "execution_count": null,
   "metadata": {},
   "outputs": [],
   "source": []
  },
  {
   "cell_type": "code",
   "execution_count": null,
   "metadata": {},
   "outputs": [],
   "source": []
  },
  {
   "cell_type": "code",
   "execution_count": null,
   "metadata": {},
   "outputs": [],
   "source": []
  },
  {
   "cell_type": "code",
   "execution_count": null,
   "metadata": {},
   "outputs": [],
   "source": []
  },
  {
   "cell_type": "code",
   "execution_count": null,
   "metadata": {},
   "outputs": [],
   "source": []
  }
 ],
 "metadata": {
  "kernelspec": {
   "display_name": "Python 3",
   "language": "python",
   "name": "python3"
  },
  "language_info": {
   "codemirror_mode": {
    "name": "ipython",
    "version": 3
   },
   "file_extension": ".py",
   "mimetype": "text/x-python",
   "name": "python",
   "nbconvert_exporter": "python",
   "pygments_lexer": "ipython3",
   "version": "3.10.7"
  }
 },
 "nbformat": 4,
 "nbformat_minor": 2
}
